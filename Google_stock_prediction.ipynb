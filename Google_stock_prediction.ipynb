{
 "cells": [
  {
   "cell_type": "code",
   "execution_count": 35,
   "metadata": {},
   "outputs": [
    {
     "name": "stdout",
     "output_type": "stream",
     "text": [
      "Dataset Info:\n",
      "<class 'pandas.core.frame.DataFrame'>\n",
      "RangeIndex: 1260 entries, 0 to 1259\n",
      "Data columns (total 7 columns):\n",
      " #   Column     Non-Null Count  Dtype \n",
      "---  ------     --------------  ----- \n",
      " 0   Price      1260 non-null   object\n",
      " 1   Adj Close  1259 non-null   object\n",
      " 2   Close      1259 non-null   object\n",
      " 3   High       1259 non-null   object\n",
      " 4   Low        1259 non-null   object\n",
      " 5   Open       1259 non-null   object\n",
      " 6   Volume     1259 non-null   object\n",
      "dtypes: object(7)\n",
      "memory usage: 69.0+ KB\n",
      "None\n"
     ]
    },
    {
     "data": {
      "text/html": [
       "<div>\n",
       "<style scoped>\n",
       "    .dataframe tbody tr th:only-of-type {\n",
       "        vertical-align: middle;\n",
       "    }\n",
       "\n",
       "    .dataframe tbody tr th {\n",
       "        vertical-align: top;\n",
       "    }\n",
       "\n",
       "    .dataframe thead th {\n",
       "        text-align: right;\n",
       "    }\n",
       "</style>\n",
       "<table border=\"1\" class=\"dataframe\">\n",
       "  <thead>\n",
       "    <tr style=\"text-align: right;\">\n",
       "      <th></th>\n",
       "      <th>Price</th>\n",
       "      <th>Adj Close</th>\n",
       "      <th>Close</th>\n",
       "      <th>High</th>\n",
       "      <th>Low</th>\n",
       "      <th>Open</th>\n",
       "      <th>Volume</th>\n",
       "    </tr>\n",
       "  </thead>\n",
       "  <tbody>\n",
       "    <tr>\n",
       "      <th>0</th>\n",
       "      <td>Ticker</td>\n",
       "      <td>GOOGL</td>\n",
       "      <td>GOOGL</td>\n",
       "      <td>GOOGL</td>\n",
       "      <td>GOOGL</td>\n",
       "      <td>GOOGL</td>\n",
       "      <td>GOOGL</td>\n",
       "    </tr>\n",
       "    <tr>\n",
       "      <th>1</th>\n",
       "      <td>Date</td>\n",
       "      <td>NaN</td>\n",
       "      <td>NaN</td>\n",
       "      <td>NaN</td>\n",
       "      <td>NaN</td>\n",
       "      <td>NaN</td>\n",
       "      <td>NaN</td>\n",
       "    </tr>\n",
       "    <tr>\n",
       "      <th>2</th>\n",
       "      <td>2020-01-02 00:00:00+00:00</td>\n",
       "      <td>68.18682098</td>\n",
       "      <td>68.43399811</td>\n",
       "      <td>68.43399811</td>\n",
       "      <td>67.32450104</td>\n",
       "      <td>67.42050171</td>\n",
       "      <td>27278000</td>\n",
       "    </tr>\n",
       "    <tr>\n",
       "      <th>3</th>\n",
       "      <td>2020-01-03 00:00:00+00:00</td>\n",
       "      <td>67.83010101</td>\n",
       "      <td>68.0759964</td>\n",
       "      <td>68.6875</td>\n",
       "      <td>67.36599731</td>\n",
       "      <td>67.40000153</td>\n",
       "      <td>23408000</td>\n",
       "    </tr>\n",
       "    <tr>\n",
       "      <th>4</th>\n",
       "      <td>2020-01-06 00:00:00+00:00</td>\n",
       "      <td>69.63805389</td>\n",
       "      <td>69.89050293</td>\n",
       "      <td>69.91600037</td>\n",
       "      <td>67.55000305</td>\n",
       "      <td>67.58149719</td>\n",
       "      <td>46768000</td>\n",
       "    </tr>\n",
       "  </tbody>\n",
       "</table>\n",
       "</div>"
      ],
      "text/plain": [
       "                       Price    Adj Close        Close         High  \\\n",
       "0                     Ticker        GOOGL        GOOGL        GOOGL   \n",
       "1                       Date          NaN          NaN          NaN   \n",
       "2  2020-01-02 00:00:00+00:00  68.18682098  68.43399811  68.43399811   \n",
       "3  2020-01-03 00:00:00+00:00  67.83010101   68.0759964      68.6875   \n",
       "4  2020-01-06 00:00:00+00:00  69.63805389  69.89050293  69.91600037   \n",
       "\n",
       "           Low         Open    Volume  \n",
       "0        GOOGL        GOOGL     GOOGL  \n",
       "1          NaN          NaN       NaN  \n",
       "2  67.32450104  67.42050171  27278000  \n",
       "3  67.36599731  67.40000153  23408000  \n",
       "4  67.55000305  67.58149719  46768000  "
      ]
     },
     "execution_count": 35,
     "metadata": {},
     "output_type": "execute_result"
    }
   ],
   "source": [
    "import pandas as pd\n",
    "\n",
    "# Load the dataset\n",
    "file_path = \"googl_data_2020_2025.csv\"\n",
    "df = pd.read_csv(file_path)\n",
    "\n",
    "# Display basic information\n",
    "print(\"Dataset Info:\")\n",
    "print(df.info())\n",
    "\n",
    "# Display the first few rows\n",
    "df.head()\n"
   ]
  },
  {
   "cell_type": "code",
   "execution_count": 36,
   "metadata": {},
   "outputs": [
    {
     "name": "stdout",
     "output_type": "stream",
     "text": [
      "\n",
      "Missing Values:\n",
      " Price        0\n",
      "Adj Close    1\n",
      "Close        1\n",
      "High         1\n",
      "Low          1\n",
      "Open         1\n",
      "Volume       1\n",
      "dtype: int64\n",
      "<class 'pandas.core.frame.DataFrame'>\n",
      "Index: 1259 entries, 0 to 1259\n",
      "Data columns (total 7 columns):\n",
      " #   Column     Non-Null Count  Dtype  \n",
      "---  ------     --------------  -----  \n",
      " 0   Price      0 non-null      float64\n",
      " 1   Adj Close  1258 non-null   float64\n",
      " 2   Close      1258 non-null   float64\n",
      " 3   High       1258 non-null   float64\n",
      " 4   Low        1258 non-null   float64\n",
      " 5   Open       1258 non-null   float64\n",
      " 6   Volume     1258 non-null   float64\n",
      "dtypes: float64(7)\n",
      "memory usage: 78.7 KB\n"
     ]
    }
   ],
   "source": [
    "# Check for missing values\n",
    "print(\"\\nMissing Values:\\n\", df.isnull().sum())\n",
    "\n",
    "# Drop rows with missing values (or you can fill with mean/median)\n",
    "df.dropna(inplace=True)\n",
    "\n",
    "# Convert necessary columns to numeric (if needed)\n",
    "for col in df.columns:\n",
    "    try:\n",
    "        df[col] = pd.to_numeric(df[col], errors='coerce')\n",
    "    except:\n",
    "        pass\n",
    "\n",
    "# Display updated info\n",
    "df.info()\n"
   ]
  },
  {
   "cell_type": "code",
   "execution_count": 37,
   "metadata": {},
   "outputs": [
    {
     "name": "stdout",
     "output_type": "stream",
     "text": [
      "Adj Close    0\n",
      "Close        0\n",
      "High         0\n",
      "Low          0\n",
      "Open         0\n",
      "Volume       0\n",
      "dtype: int64\n"
     ]
    }
   ],
   "source": [
    "\n",
    "# df.drop(columns=['Price'])\n",
    "\n",
    "# df.isnull().sum()\n",
    "\n",
    "\n",
    "# Drop 'Price' column\n",
    "df.drop(columns=['Price'], inplace=True)\n",
    "df.fillna(df.mean(), inplace=True)\n",
    "# Confirm changes\n",
    "print(df.isnull().sum())  # Should print all zeros\n"
   ]
  },
  {
   "cell_type": "code",
   "execution_count": 38,
   "metadata": {},
   "outputs": [
    {
     "name": "stdout",
     "output_type": "stream",
     "text": [
      "Dataset Columns: ['Adj Close', 'Close', 'High', 'Low', 'Open', 'Volume']\n"
     ]
    }
   ],
   "source": [
    "print(\"Dataset Columns:\", df.columns.tolist())\n"
   ]
  },
  {
   "cell_type": "code",
   "execution_count": 39,
   "metadata": {},
   "outputs": [
    {
     "data": {
      "text/plain": [
       "((1007, 5), (252, 5), (1007,), (252,))"
      ]
     },
     "execution_count": 39,
     "metadata": {},
     "output_type": "execute_result"
    }
   ],
   "source": [
    "# Set target column (y) as 'Close' price\n",
    "target_column = \"Close\"\n",
    "\n",
    "# Select features (X) by removing the target column\n",
    "X = df.drop(columns=[target_column])  \n",
    "y = df[target_column]  \n",
    "\n",
    "# Train-test split\n",
    "from sklearn.model_selection import train_test_split\n",
    "X_train, X_test, y_train, y_test = train_test_split(X, y, test_size=0.2, random_state=42)\n",
    "\n",
    "# Confirm shape\n",
    "X_train.shape, X_test.shape, y_train.shape, y_test.shape\n"
   ]
  },
  {
   "cell_type": "code",
   "execution_count": 40,
   "metadata": {},
   "outputs": [
    {
     "name": "stdout",
     "output_type": "stream",
     "text": [
      "Linear Regression - R²: 1.0000, MSE: 0.0123, MAE: 0.0708\n"
     ]
    }
   ],
   "source": [
    "from sklearn.linear_model import LinearRegression\n",
    "from sklearn.metrics import r2_score, mean_squared_error, mean_absolute_error\n",
    "\n",
    "# Train Linear Regression model\n",
    "lin_model = LinearRegression()\n",
    "lin_model.fit(X_train, y_train)\n",
    "\n",
    "# Make predictions\n",
    "y_pred_lin = lin_model.predict(X_test)\n",
    "\n",
    "# Evaluate Linear Regression\n",
    "r2_lin = r2_score(y_test, y_pred_lin)\n",
    "mse_lin = mean_squared_error(y_test, y_pred_lin)\n",
    "mae_lin = mean_absolute_error(y_test, y_pred_lin)\n",
    "\n",
    "print(f\"Linear Regression - R²: {r2_lin:.4f}, MSE: {mse_lin:.4f}, MAE: {mae_lin:.4f}\")\n"
   ]
  },
  {
   "cell_type": "code",
   "execution_count": 41,
   "metadata": {},
   "outputs": [
    {
     "name": "stdout",
     "output_type": "stream",
     "text": [
      "Polynomial Regression - R²: 0.9822, MSE: 19.3890, MAE: 3.0836\n"
     ]
    }
   ],
   "source": [
    "from sklearn.preprocessing import PolynomialFeatures\n",
    "from sklearn.pipeline import make_pipeline\n",
    "\n",
    "# Train Polynomial Regression model (degree 2)\n",
    "degree = 2\n",
    "poly_model = make_pipeline(PolynomialFeatures(degree), LinearRegression())\n",
    "poly_model.fit(X_train, y_train)\n",
    "\n",
    "# Make predictions\n",
    "y_pred_poly = poly_model.predict(X_test)\n",
    "\n",
    "# Evaluate Polynomial Regression\n",
    "r2_poly = r2_score(y_test, y_pred_poly)\n",
    "mse_poly = mean_squared_error(y_test, y_pred_poly)\n",
    "mae_poly = mean_absolute_error(y_test, y_pred_poly)\n",
    "\n",
    "print(f\"Polynomial Regression - R²: {r2_poly:.4f}, MSE: {mse_poly:.4f}, MAE: {mae_poly:.4f}\")\n"
   ]
  },
  {
   "cell_type": "code",
   "execution_count": 43,
   "metadata": {},
   "outputs": [
    {
     "name": "stdout",
     "output_type": "stream",
     "text": [
      "KNN Regression - R²: -0.0529\n"
     ]
    }
   ],
   "source": [
    "from sklearn.neighbors import KNeighborsRegressor\n",
    "\n",
    "# Train KNN model\n",
    "knn_model = KNeighborsRegressor(n_neighbors=5)\n",
    "knn_model.fit(X_train, y_train)\n",
    "\n",
    "# Make predictions\n",
    "y_pred_knn = knn_model.predict(X_test)\n",
    "\n",
    "# Evaluate KNN\n",
    "r2_knn = r2_score(y_test, y_pred_knn)\n",
    "print(f\"KNN Regression - R²: {r2_knn:.4f}\")\n"
   ]
  },
  {
   "cell_type": "code",
   "execution_count": 44,
   "metadata": {},
   "outputs": [
    {
     "name": "stdout",
     "output_type": "stream",
     "text": [
      "Decision Tree Regression - R²: 0.9998\n"
     ]
    }
   ],
   "source": [
    "from sklearn.tree import DecisionTreeRegressor\n",
    "\n",
    "# Train Decision Tree model\n",
    "dt_model = DecisionTreeRegressor()\n",
    "dt_model.fit(X_train, y_train)\n",
    "\n",
    "# Make predictions\n",
    "y_pred_dt = dt_model.predict(X_test)\n",
    "\n",
    "# Evaluate Decision Tree Regression\n",
    "r2_dt = r2_score(y_test, y_pred_dt)\n",
    "print(f\"Decision Tree Regression - R²: {r2_dt:.4f}\")\n"
   ]
  },
  {
   "cell_type": "code",
   "execution_count": 45,
   "metadata": {},
   "outputs": [
    {
     "name": "stdout",
     "output_type": "stream",
     "text": [
      "Random Forest Regression - R²: 0.9999\n"
     ]
    }
   ],
   "source": [
    "from sklearn.ensemble import RandomForestRegressor\n",
    "\n",
    "# Train Random Forest model\n",
    "rf_model = RandomForestRegressor(n_estimators=100)\n",
    "rf_model.fit(X_train, y_train)\n",
    "\n",
    "# Make predictions\n",
    "y_pred_rf = rf_model.predict(X_test)\n",
    "\n",
    "# Evaluate Random Forest Regression\n",
    "r2_rf = r2_score(y_test, y_pred_rf)\n",
    "print(f\"Random Forest Regression - R²: {r2_rf:.4f}\")\n"
   ]
  },
  {
   "cell_type": "code",
   "execution_count": 46,
   "metadata": {},
   "outputs": [
    {
     "name": "stdout",
     "output_type": "stream",
     "text": [
      "SVM Regression - R²: 0.0951\n"
     ]
    }
   ],
   "source": [
    "from sklearn.svm import SVR\n",
    "\n",
    "# Train SVM model\n",
    "svm_model = SVR(kernel=\"rbf\")\n",
    "svm_model.fit(X_train, y_train)\n",
    "\n",
    "# Make predictions\n",
    "y_pred_svm = svm_model.predict(X_test)\n",
    "\n",
    "# Evaluate SVM Regression\n",
    "r2_svm = r2_score(y_test, y_pred_svm)\n",
    "print(f\"SVM Regression - R²: {r2_svm:.4f}\")\n"
   ]
  },
  {
   "cell_type": "code",
   "execution_count": 47,
   "metadata": {},
   "outputs": [
    {
     "data": {
      "image/png": "[encoded data removed]",
      "text/plain": [
       "<Figure size 800x600 with 1 Axes>"
      ]
     },
     "metadata": {},
     "output_type": "display_data"
    }
   ],
   "source": [
    "import matplotlib.pyplot as plt\n",
    "\n",
    "# Plot Actual vs Predicted for Linear Regression\n",
    "plt.figure(figsize=(8,6))\n",
    "plt.scatter(y_test, y_pred_lin, color=\"blue\", alpha=0.5, label=\"Predicted\")\n",
    "plt.plot([y_test.min(), y_test.max()], [y_test.min(), y_test.max()], color=\"red\", linestyle=\"--\", label=\"Perfect Fit\")\n",
    "plt.xlabel(\"Actual Values\")\n",
    "plt.ylabel(\"Predicted Values\")\n",
    "plt.title(\"Linear Regression: Actual vs Predicted\")\n",
    "plt.legend()\n",
    "plt.show()\n"
   ]
  }
 ],
 "metadata": {
  "kernelspec": {
   "display_name": "Python 3",
   "language": "python",
   "name": "python3"
  },
  "language_info": {
   "codemirror_mode": {
    "name": "ipython",
    "version": 3
   },
   "file_extension": ".py",
   "mimetype": "text/x-python",
   "name": "python",
   "nbconvert_exporter": "python",
   "pygments_lexer": "ipython3",
   "version": "3.12.2"
  }
 },
 "nbformat": 4,
 "nbformat_minor": 2
}
