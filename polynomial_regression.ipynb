{
 "cells": [
  {
   "cell_type": "code",
   "execution_count": 3,
   "metadata": {},
   "outputs": [
    {
     "data": {
      "image/png": "[encoded data removed]",
      "text/plain": [
       "<Figure size 640x480 with 1 Axes>"
      ]
     },
     "metadata": {},
     "output_type": "display_data"
    }
   ],
   "source": [
    "import numpy as np\n",
    "import matplotlib.pyplot as plt\n",
    "np.random.seed(182)\n",
    "X = np.linspace(-10,10,1000)\n",
    "y = 2 * X**2 + 5*X +3 + np.random.normal(0,5,size = X.shape)\n",
    "plt.scatter(X,y)\n",
    "plt.show()"
   ]
  },
  {
   "cell_type": "code",
   "execution_count": 4,
   "metadata": {},
   "outputs": [],
   "source": [
    "split_ratio = 0.8\n",
    "split_index = int(split_ratio * len(X))\n",
    "X_train , X_test = X[:split_index], X[split_index:]\n",
    "y_train , y_test = y[:split_index], y[split_index:]"
   ]
  },
  {
   "cell_type": "code",
   "execution_count": 5,
   "metadata": {},
   "outputs": [],
   "source": [
    "def polynomial_transformation(X,degree = 2):\n",
    "  return np.vstack([X**i for i in range(degree+1)]).T\n",
    "\n",
    "transformed_X_train = polynomial_transformation(X_train,2)\n",
    "\n",
    "transformed_X_test = polynomial_transformation(X_test,2)"
   ]
  },
  {
   "cell_type": "code",
   "execution_count": 6,
   "metadata": {},
   "outputs": [
    {
     "name": "stdout",
     "output_type": "stream",
     "text": [
      "Epochs ->  0  Loss is  3632.3112429200582\n",
      "Epochs ->  100  Loss is  61.5548097154154\n",
      "Epochs ->  200  Loss is  31.338568554986452\n",
      "Epochs ->  300  Loss is  28.047155217879077\n",
      "Epochs ->  400  Loss is  27.429012773305857\n",
      "Epochs ->  500  Loss is  27.101080105303023\n",
      "Epochs ->  600  Loss is  26.826845651679246\n",
      "Epochs ->  700  Loss is  26.58071804427698\n",
      "Epochs ->  800  Loss is  26.358031057560424\n",
      "Epochs ->  900  Loss is  26.156375433990217\n",
      "Epochs ->  1000  Loss is  25.973747523942357\n",
      "Epochs ->  1100  Loss is  25.808350215470952\n",
      "Epochs ->  1200  Loss is  25.658557666208566\n",
      "Epochs ->  1300  Loss is  25.522897595688182\n",
      "Epochs ->  1400  Loss is  25.400036645222475\n",
      "Epochs ->  1500  Loss is  25.288767256131802\n",
      "Epochs ->  1600  Loss is  25.187995799427373\n",
      "Epochs ->  1700  Loss is  25.096731826743703\n",
      "Epochs ->  1800  Loss is  25.014078335542784\n",
      "Epochs ->  1900  Loss is  24.939222952779883\n",
      "Epochs ->  2000  Loss is  24.871429950364995\n",
      "Epochs ->  2100  Loss is  24.810033013941865\n",
      "Epochs ->  2200  Loss is  24.75442869391074\n",
      "Epochs ->  2300  Loss is  24.7040704743277\n",
      "Epochs ->  2400  Loss is  24.658463401385255\n",
      "Epochs ->  2500  Loss is  24.617159218679845\n",
      "Epochs ->  2600  Loss is  24.57975196145211\n",
      "Epochs ->  2700  Loss is  24.54587396649741\n",
      "Epochs ->  2800  Loss is  24.51519225852926\n",
      "Epochs ->  2900  Loss is  24.487405277478537\n",
      "Epochs ->  3000  Loss is  24.46223991456215\n",
      "Epochs ->  3100  Loss is  24.439448827989715\n",
      "Epochs ->  3200  Loss is  24.418808011925275\n",
      "Epochs ->  3300  Loss is  24.400114594810116\n",
      "Epochs ->  3400  Loss is  24.383184845407264\n",
      "Epochs ->  3500  Loss is  24.367852366969665\n",
      "Epochs ->  3600  Loss is  24.353966461783138\n",
      "Epochs ->  3700  Loss is  24.34139065000987\n",
      "Epochs ->  3800  Loss is  24.33000132827445\n",
      "Epochs ->  3900  Loss is  24.319686554808413\n",
      "Epochs ->  4000  Loss is  24.31034494921264\n",
      "Epochs ->  4100  Loss is  24.301884696023897\n",
      "Epochs ->  4200  Loss is  24.29422264229197\n",
      "Epochs ->  4300  Loss is  24.287283480297468\n",
      "Epochs ->  4400  Loss is  24.28099900737799\n",
      "Epochs ->  4500  Loss is  24.275307455587317\n",
      "Epochs ->  4600  Loss is  24.270152884599256\n",
      "Epochs ->  4700  Loss is  24.265484631889247\n",
      "Epochs ->  4800  Loss is  24.26125681478964\n",
      "Epochs ->  4900  Loss is  24.25742787952455\n",
      "Polynomial Coefficients (Gradient Descent): [3.13537767 5.06984742 2.0110044 ]\n",
      "Train MSE: 24.25396019279191\n",
      "Test MSE: 21.76718962480456\n",
      "Train RMSE: 4.9248309811395465\n",
      "Test RMSE: 4.665532083782573\n"
     ]
    }
   ],
   "source": [
    "class PolynomialRegression:\n",
    "  def __init__(self,degree = 2, lr = 0.001,epochs = 1000):\n",
    "    self.degree = degree\n",
    "    self.lr = lr\n",
    "    self.epochs = epochs\n",
    "    self.weights = np.zeros(degree+1)\n",
    "\n",
    "  def predict(self,X):\n",
    "    return X @ self.weights # dot product\n",
    "\n",
    "\n",
    "  def compute_mse(self,y_true,y_pred):\n",
    "    return np.mean((y_true - y_pred)**2)\n",
    "\n",
    "  def compute_rmse(self,y_true,y_pred):\n",
    "    return np.sqrt(np.mean((y_true - y_pred)**2))\n",
    "\n",
    "\n",
    "  def fit(self,X,y):\n",
    "    m = len(y)\n",
    "    for _ in range(self.epochs):\n",
    "      #prediction\n",
    "      y_pred = self.predict(X)\n",
    "\n",
    "      # error computation\n",
    "      error = (y_pred - y)\n",
    "\n",
    "      # gradient Computaion\n",
    "      gradients = (1/m) * (X.T @ error)\n",
    "\n",
    "      #weight updation\n",
    "      self.weights -= self.lr *gradients\n",
    "      if _ % 100 ==0:\n",
    "        print(\"Epochs -> \",_,\" Loss is \",self.compute_mse(y,y_pred))\n",
    "\n",
    "model_poly = PolynomialRegression(degree=2, lr=0.001, epochs=5000)\n",
    "model_poly.fit(transformed_X_train, y_train)\n",
    "\n",
    "# Make predictions\n",
    "y_pred_train = model_poly.predict(transformed_X_train)\n",
    "y_pred_test = model_poly.predict(transformed_X_test)\n",
    "\n",
    "# Calculate errors\n",
    "train_mse = model_poly.compute_mse(y_train, y_pred_train)\n",
    "test_mse = model_poly.compute_mse(y_test, y_pred_test)\n",
    "train_rmse = model_poly.compute_rmse(y_train, y_pred_train)\n",
    "test_rmse = model_poly.compute_rmse(y_test, y_pred_test)\n",
    "\n",
    "# Print results\n",
    "print(\"Polynomial Coefficients (Gradient Descent):\", model_poly.weights)\n",
    "print(\"Train MSE:\", train_mse)\n",
    "print(\"Test MSE:\", test_mse)\n",
    "print(\"Train RMSE:\", train_rmse)\n",
    "print(\"Test RMSE:\", test_rmse)\n",
    "\n"
   ]
  }
 ],
 "metadata": {
  "kernelspec": {
   "display_name": "Python 3",
   "language": "python",
   "name": "python3"
  },
  "language_info": {
   "codemirror_mode": {
    "name": "ipython",
    "version": 3
   },
   "file_extension": ".py",
   "mimetype": "text/x-python",
   "name": "python",
   "nbconvert_exporter": "python",
   "pygments_lexer": "ipython3",
   "version": "3.12.2"
  }
 },
 "nbformat": 4,
 "nbformat_minor": 2
}
